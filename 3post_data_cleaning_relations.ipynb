{
 "cells": [
  {
   "cell_type": "markdown",
   "id": "8c6b48e7",
   "metadata": {},
   "source": [
    "In this file there is many data visualizations to help us anylize and recognize paterns, relations, and trends in the new clean data set where we can focus on just the colunms we will use."
   ]
  },
  {
   "cell_type": "markdown",
   "id": "b7610e24",
   "metadata": {},
   "source": [
    "## Install neccesary resources"
   ]
  },
  {
   "cell_type": "code",
   "execution_count": null,
   "id": "0694670a",
   "metadata": {},
   "outputs": [],
   "source": [
    "%pip install seaborn\n",
    "%pip install missingno\n",
    "%pip install plotly\n",
    "%pip install numpy\n",
    "%pip install pandas\n",
    "%pip install nltk\n",
    "%pip install nbformat\n",
    "%pip install scikit-learn\n",
    "%pip install jupyter tensorflow\n"
   ]
  },
  {
   "cell_type": "code",
   "execution_count": null,
   "id": "7c83dcb3",
   "metadata": {},
   "outputs": [],
   "source": [
    "import sys\n",
    "print(sys.executable)\n",
    "!{sys.executable} -m pip install nbformat"
   ]
  },
  {
   "cell_type": "code",
   "execution_count": null,
   "id": "e6970565",
   "metadata": {},
   "outputs": [],
   "source": [
    "import seaborn as sns\n",
    "import plotly.express as px\n",
    "import plotly.graph_objects as go\n",
    "# Data Processing\n",
    "import os\n",
    "import numpy as np\n",
    "import pandas as pd\n",
    "# Basic Visualization tools\n",
    "import matplotlib.pyplot as plt\n",
    "import warnings\n",
    "warnings.filterwarnings('ignore')\n",
    "plt.rcParams['figure.dpi'] = 300\n",
    "data = pd.read_csv('./hospital_cleaned.csv')\n",
    "import missingno as msno\n",
    "msno.matrix(data)"
   ]
  },
  {
   "cell_type": "code",
   "execution_count": null,
   "id": "0854ed3a",
   "metadata": {},
   "outputs": [],
   "source": [
    "fig = px.scatter(data, x='type_of_admission', y='length_of_stay', color='emergency_department_indicator', opacity=0.5)\n",
    "fig.show()"
   ]
  },
  {
   "cell_type": "code",
   "execution_count": null,
   "id": "40ee4924",
   "metadata": {},
   "outputs": [],
   "source": [
    "fig = px.scatter(data, x='length_of_stay', y='age_group', color='emergency_department_indicator', opacity=0.5)\n",
    "fig.show()"
   ]
  },
  {
   "cell_type": "code",
   "execution_count": null,
   "id": "6562c495",
   "metadata": {},
   "outputs": [],
   "source": [
    "avg_stay = data.groupby('age_group')['length_of_stay'].mean().reset_index()\n",
    "plt.figure(figsize=(6,4))\n",
    "sns.barplot(data=avg_stay, x='age_group', y='length_of_stay', width=0.5)\n",
    "plt.xlabel('age_group')\n",
    "plt.ylabel('Average length_of_stay')\n",
    "plt.title('Average length_of_stay by age_group')\n",
    "plt.xticks(rotation=45)\n",
    "plt.show()"
   ]
  },
  {
   "cell_type": "code",
   "execution_count": null,
   "id": "6efe5991",
   "metadata": {},
   "outputs": [],
   "source": [
    "avg_stay = data.groupby('type_of_admission')['length_of_stay'].mean().reset_index()\n",
    "plt.figure(figsize=(6,4))\n",
    "sns.barplot(data=avg_stay, x='type_of_admission', y='length_of_stay', width=0.5)\n",
    "plt.xlabel('type_of_admission')\n",
    "plt.ylabel('Average length_of_stay')\n",
    "plt.title('Average length_of_stay by type_of_admission')\n",
    "plt.xticks(rotation=45)\n",
    "plt.show()"
   ]
  },
  {
   "cell_type": "code",
   "execution_count": null,
   "id": "25668379",
   "metadata": {},
   "outputs": [],
   "source": [
    "avg_stay = data.groupby('emergency_department_indicator')['length_of_stay'].mean().reset_index()\n",
    "plt.figure(figsize=(6,4))\n",
    "sns.barplot(data=avg_stay, x='emergency_department_indicator', y='length_of_stay', width=0.5)\n",
    "plt.xlabel('emergency_department_indicator')\n",
    "plt.ylabel('Average length_of_stay')\n",
    "plt.title('Average length_of_stay by emergency_department_indicator')\n",
    "plt.xticks(rotation=45)\n",
    "plt.show()"
   ]
  },
  {
   "cell_type": "code",
   "execution_count": null,
   "id": "740ff165",
   "metadata": {},
   "outputs": [],
   "source": [
    "import pandas as pd\n",
    "import matplotlib.pyplot as plt\n",
    "\n",
    "age_order = ['0 to 17', '18 to 29', '30 to 49', '50 to 69', '70 or Older']\n",
    "\n",
    "bins = [0, 1, 3, 7, data[\"length_of_stay\"].max()]\n",
    "labels = [\"0–1 day\", \"2–3 days\", \"4–7 days\", \"> 7 days\"]\n",
    "\n",
    "data[\"los_bucket\"] = pd.cut(data[\"length_of_stay\"], bins=bins, labels=labels, right=True)\n",
    "\n",
    "prop = (\n",
    "    data.groupby([\"age_group\", \"los_bucket\"])\n",
    "      .size()\n",
    "      .unstack(\"los_bucket\")\n",
    "      .loc[age_order]          # ensure correct order\n",
    ")\n",
    "prop = prop.div(prop.sum(axis=1), axis=0)\n",
    "\n",
    "prop.plot(\n",
    "    kind=\"bar\",\n",
    "    stacked=True,\n",
    "    figsize=(10,6),\n",
    "    rot=30\n",
    ")\n",
    "plt.xlabel(\"Age Group\")\n",
    "plt.ylabel(\"Proportion of Stays\")\n",
    "plt.title(\"Length-of-Stay Buckets by Age Group\")\n",
    "plt.legend(title=\"LOS Bucket\", bbox_to_anchor=(1.02,1))\n",
    "plt.tight_layout()\n",
    "plt.show()"
   ]
  }
 ],
 "metadata": {
  "kernelspec": {
   "display_name": "Python 3",
   "language": "python",
   "name": "python3"
  },
  "language_info": {
   "codemirror_mode": {
    "name": "ipython",
    "version": 3
   },
   "file_extension": ".py",
   "mimetype": "text/x-python",
   "name": "python",
   "nbconvert_exporter": "python",
   "pygments_lexer": "ipython3",
   "version": "3.12.3"
  }
 },
 "nbformat": 4,
 "nbformat_minor": 5
}
