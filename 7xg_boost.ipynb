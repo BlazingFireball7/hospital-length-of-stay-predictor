{
 "cells": [
  {
   "cell_type": "markdown",
   "id": "551f3818",
   "metadata": {},
   "source": [
    "XG boost is an great model due to its consitentcy, efficency, and reliablity which makes this an impotant AI model to try out. Numeric features were tested but non numeric features were used as they gave better results. All outliers where LOS is over 21 days were dropped."
   ]
  },
  {
   "cell_type": "code",
   "execution_count": 1,
   "id": "d21b219d",
   "metadata": {},
   "outputs": [
    {
     "name": "stdout",
     "output_type": "stream",
     "text": [
      "Requirement already satisfied: seaborn in d:\\vs code prorgrams\\.venv2\\lib\\site-packages (0.13.2)\n",
      "Requirement already satisfied: numpy!=1.24.0,>=1.20 in d:\\vs code prorgrams\\.venv2\\lib\\site-packages (from seaborn) (2.1.3)\n",
      "Requirement already satisfied: pandas>=1.2 in d:\\vs code prorgrams\\.venv2\\lib\\site-packages (from seaborn) (2.3.1)\n",
      "Requirement already satisfied: matplotlib!=3.6.1,>=3.4 in d:\\vs code prorgrams\\.venv2\\lib\\site-packages (from seaborn) (3.10.3)\n",
      "Requirement already satisfied: contourpy>=1.0.1 in d:\\vs code prorgrams\\.venv2\\lib\\site-packages (from matplotlib!=3.6.1,>=3.4->seaborn) (1.3.3)\n",
      "Requirement already satisfied: cycler>=0.10 in d:\\vs code prorgrams\\.venv2\\lib\\site-packages (from matplotlib!=3.6.1,>=3.4->seaborn) (0.12.1)\n",
      "Requirement already satisfied: fonttools>=4.22.0 in d:\\vs code prorgrams\\.venv2\\lib\\site-packages (from matplotlib!=3.6.1,>=3.4->seaborn) (4.59.0)\n",
      "Requirement already satisfied: kiwisolver>=1.3.1 in d:\\vs code prorgrams\\.venv2\\lib\\site-packages (from matplotlib!=3.6.1,>=3.4->seaborn) (1.4.8)\n",
      "Requirement already satisfied: packaging>=20.0 in d:\\vs code prorgrams\\.venv2\\lib\\site-packages (from matplotlib!=3.6.1,>=3.4->seaborn) (25.0)\n",
      "Requirement already satisfied: pillow>=8 in d:\\vs code prorgrams\\.venv2\\lib\\site-packages (from matplotlib!=3.6.1,>=3.4->seaborn) (11.3.0)\n",
      "Requirement already satisfied: pyparsing>=2.3.1 in d:\\vs code prorgrams\\.venv2\\lib\\site-packages (from matplotlib!=3.6.1,>=3.4->seaborn) (3.2.3)\n",
      "Requirement already satisfied: python-dateutil>=2.7 in d:\\vs code prorgrams\\.venv2\\lib\\site-packages (from matplotlib!=3.6.1,>=3.4->seaborn) (2.9.0.post0)\n",
      "Requirement already satisfied: pytz>=2020.1 in d:\\vs code prorgrams\\.venv2\\lib\\site-packages (from pandas>=1.2->seaborn) (2025.2)\n",
      "Requirement already satisfied: tzdata>=2022.7 in d:\\vs code prorgrams\\.venv2\\lib\\site-packages (from pandas>=1.2->seaborn) (2025.2)\n",
      "Requirement already satisfied: six>=1.5 in d:\\vs code prorgrams\\.venv2\\lib\\site-packages (from python-dateutil>=2.7->matplotlib!=3.6.1,>=3.4->seaborn) (1.17.0)\n",
      "Note: you may need to restart the kernel to use updated packages.\n"
     ]
    },
    {
     "name": "stderr",
     "output_type": "stream",
     "text": [
      "\n",
      "[notice] A new release of pip is available: 24.0 -> 25.1.1\n",
      "[notice] To update, run: python.exe -m pip install --upgrade pip\n"
     ]
    },
    {
     "name": "stdout",
     "output_type": "stream",
     "text": [
      "Requirement already satisfied: missingno in d:\\vs code prorgrams\\.venv2\\lib\\site-packages (0.5.2)\n",
      "Requirement already satisfied: numpy in d:\\vs code prorgrams\\.venv2\\lib\\site-packages (from missingno) (2.1.3)\n",
      "Requirement already satisfied: matplotlib in d:\\vs code prorgrams\\.venv2\\lib\\site-packages (from missingno) (3.10.3)\n",
      "Requirement already satisfied: scipy in d:\\vs code prorgrams\\.venv2\\lib\\site-packages (from missingno) (1.16.1)\n",
      "Requirement already satisfied: seaborn in d:\\vs code prorgrams\\.venv2\\lib\\site-packages (from missingno) (0.13.2)\n",
      "Requirement already satisfied: contourpy>=1.0.1 in d:\\vs code prorgrams\\.venv2\\lib\\site-packages (from matplotlib->missingno) (1.3.3)\n",
      "Requirement already satisfied: cycler>=0.10 in d:\\vs code prorgrams\\.venv2\\lib\\site-packages (from matplotlib->missingno) (0.12.1)\n",
      "Requirement already satisfied: fonttools>=4.22.0 in d:\\vs code prorgrams\\.venv2\\lib\\site-packages (from matplotlib->missingno) (4.59.0)\n",
      "Requirement already satisfied: kiwisolver>=1.3.1 in d:\\vs code prorgrams\\.venv2\\lib\\site-packages (from matplotlib->missingno) (1.4.8)\n",
      "Requirement already satisfied: packaging>=20.0 in d:\\vs code prorgrams\\.venv2\\lib\\site-packages (from matplotlib->missingno) (25.0)\n",
      "Requirement already satisfied: pillow>=8 in d:\\vs code prorgrams\\.venv2\\lib\\site-packages (from matplotlib->missingno) (11.3.0)\n",
      "Requirement already satisfied: pyparsing>=2.3.1 in d:\\vs code prorgrams\\.venv2\\lib\\site-packages (from matplotlib->missingno) (3.2.3)\n",
      "Requirement already satisfied: python-dateutil>=2.7 in d:\\vs code prorgrams\\.venv2\\lib\\site-packages (from matplotlib->missingno) (2.9.0.post0)\n",
      "Requirement already satisfied: pandas>=1.2 in d:\\vs code prorgrams\\.venv2\\lib\\site-packages (from seaborn->missingno) (2.3.1)\n",
      "Requirement already satisfied: pytz>=2020.1 in d:\\vs code prorgrams\\.venv2\\lib\\site-packages (from pandas>=1.2->seaborn->missingno) (2025.2)\n",
      "Requirement already satisfied: tzdata>=2022.7 in d:\\vs code prorgrams\\.venv2\\lib\\site-packages (from pandas>=1.2->seaborn->missingno) (2025.2)\n",
      "Requirement already satisfied: six>=1.5 in d:\\vs code prorgrams\\.venv2\\lib\\site-packages (from python-dateutil>=2.7->matplotlib->missingno) (1.17.0)\n",
      "Note: you may need to restart the kernel to use updated packages.\n"
     ]
    },
    {
     "name": "stderr",
     "output_type": "stream",
     "text": [
      "\n",
      "[notice] A new release of pip is available: 24.0 -> 25.1.1\n",
      "[notice] To update, run: python.exe -m pip install --upgrade pip\n"
     ]
    },
    {
     "name": "stdout",
     "output_type": "stream",
     "text": [
      "Requirement already satisfied: plotly in d:\\vs code prorgrams\\.venv2\\lib\\site-packages (6.2.0)\n",
      "Requirement already satisfied: narwhals>=1.15.1 in d:\\vs code prorgrams\\.venv2\\lib\\site-packages (from plotly) (2.0.0)\n",
      "Requirement already satisfied: packaging in d:\\vs code prorgrams\\.venv2\\lib\\site-packages (from plotly) (25.0)\n",
      "Note: you may need to restart the kernel to use updated packages.\n"
     ]
    },
    {
     "name": "stderr",
     "output_type": "stream",
     "text": [
      "\n",
      "[notice] A new release of pip is available: 24.0 -> 25.1.1\n",
      "[notice] To update, run: python.exe -m pip install --upgrade pip\n"
     ]
    },
    {
     "name": "stdout",
     "output_type": "stream",
     "text": [
      "Requirement already satisfied: numpy in d:\\vs code prorgrams\\.venv2\\lib\\site-packages (2.1.3)\n",
      "Note: you may need to restart the kernel to use updated packages.\n"
     ]
    },
    {
     "name": "stderr",
     "output_type": "stream",
     "text": [
      "\n",
      "[notice] A new release of pip is available: 24.0 -> 25.1.1\n",
      "[notice] To update, run: python.exe -m pip install --upgrade pip\n"
     ]
    },
    {
     "name": "stdout",
     "output_type": "stream",
     "text": [
      "Requirement already satisfied: pandas in d:\\vs code prorgrams\\.venv2\\lib\\site-packages (2.3.1)\n",
      "Requirement already satisfied: numpy>=1.26.0 in d:\\vs code prorgrams\\.venv2\\lib\\site-packages (from pandas) (2.1.3)\n",
      "Requirement already satisfied: python-dateutil>=2.8.2 in d:\\vs code prorgrams\\.venv2\\lib\\site-packages (from pandas) (2.9.0.post0)\n",
      "Requirement already satisfied: pytz>=2020.1 in d:\\vs code prorgrams\\.venv2\\lib\\site-packages (from pandas) (2025.2)\n",
      "Requirement already satisfied: tzdata>=2022.7 in d:\\vs code prorgrams\\.venv2\\lib\\site-packages (from pandas) (2025.2)\n",
      "Requirement already satisfied: six>=1.5 in d:\\vs code prorgrams\\.venv2\\lib\\site-packages (from python-dateutil>=2.8.2->pandas) (1.17.0)\n",
      "Note: you may need to restart the kernel to use updated packages.\n"
     ]
    },
    {
     "name": "stderr",
     "output_type": "stream",
     "text": [
      "\n",
      "[notice] A new release of pip is available: 24.0 -> 25.1.1\n",
      "[notice] To update, run: python.exe -m pip install --upgrade pip\n"
     ]
    },
    {
     "name": "stdout",
     "output_type": "stream",
     "text": [
      "Requirement already satisfied: nltk in d:\\vs code prorgrams\\.venv2\\lib\\site-packages (3.9.1)\n",
      "Requirement already satisfied: click in d:\\vs code prorgrams\\.venv2\\lib\\site-packages (from nltk) (8.2.1)\n",
      "Requirement already satisfied: joblib in d:\\vs code prorgrams\\.venv2\\lib\\site-packages (from nltk) (1.5.1)\n",
      "Requirement already satisfied: regex>=2021.8.3 in d:\\vs code prorgrams\\.venv2\\lib\\site-packages (from nltk) (2024.11.6)\n",
      "Requirement already satisfied: tqdm in d:\\vs code prorgrams\\.venv2\\lib\\site-packages (from nltk) (4.67.1)\n",
      "Requirement already satisfied: colorama in d:\\vs code prorgrams\\.venv2\\lib\\site-packages (from click->nltk) (0.4.6)\n",
      "Note: you may need to restart the kernel to use updated packages.\n"
     ]
    },
    {
     "name": "stderr",
     "output_type": "stream",
     "text": [
      "\n",
      "[notice] A new release of pip is available: 24.0 -> 25.1.1\n",
      "[notice] To update, run: python.exe -m pip install --upgrade pip\n"
     ]
    },
    {
     "name": "stdout",
     "output_type": "stream",
     "text": [
      "Requirement already satisfied: nbformat in d:\\vs code prorgrams\\.venv2\\lib\\site-packages (5.10.4)\n",
      "Requirement already satisfied: fastjsonschema>=2.15 in d:\\vs code prorgrams\\.venv2\\lib\\site-packages (from nbformat) (2.21.1)\n",
      "Requirement already satisfied: jsonschema>=2.6 in d:\\vs code prorgrams\\.venv2\\lib\\site-packages (from nbformat) (4.25.0)\n",
      "Requirement already satisfied: jupyter-core!=5.0.*,>=4.12 in d:\\vs code prorgrams\\.venv2\\lib\\site-packages (from nbformat) (5.8.1)\n",
      "Requirement already satisfied: traitlets>=5.1 in d:\\vs code prorgrams\\.venv2\\lib\\site-packages (from nbformat) (5.14.3)\n",
      "Requirement already satisfied: attrs>=22.2.0 in d:\\vs code prorgrams\\.venv2\\lib\\site-packages (from jsonschema>=2.6->nbformat) (25.3.0)\n",
      "Requirement already satisfied: jsonschema-specifications>=2023.03.6 in d:\\vs code prorgrams\\.venv2\\lib\\site-packages (from jsonschema>=2.6->nbformat) (2025.4.1)\n",
      "Requirement already satisfied: referencing>=0.28.4 in d:\\vs code prorgrams\\.venv2\\lib\\site-packages (from jsonschema>=2.6->nbformat) (0.36.2)\n",
      "Requirement already satisfied: rpds-py>=0.7.1 in d:\\vs code prorgrams\\.venv2\\lib\\site-packages (from jsonschema>=2.6->nbformat) (0.26.0)\n",
      "Requirement already satisfied: platformdirs>=2.5 in d:\\vs code prorgrams\\.venv2\\lib\\site-packages (from jupyter-core!=5.0.*,>=4.12->nbformat) (4.3.8)\n",
      "Requirement already satisfied: pywin32>=300 in d:\\vs code prorgrams\\.venv2\\lib\\site-packages (from jupyter-core!=5.0.*,>=4.12->nbformat) (311)\n",
      "Requirement already satisfied: typing-extensions>=4.4.0 in d:\\vs code prorgrams\\.venv2\\lib\\site-packages (from referencing>=0.28.4->jsonschema>=2.6->nbformat) (4.14.1)\n",
      "Note: you may need to restart the kernel to use updated packages.\n"
     ]
    },
    {
     "name": "stderr",
     "output_type": "stream",
     "text": [
      "\n",
      "[notice] A new release of pip is available: 24.0 -> 25.1.1\n",
      "[notice] To update, run: python.exe -m pip install --upgrade pip\n"
     ]
    },
    {
     "name": "stdout",
     "output_type": "stream",
     "text": [
      "Requirement already satisfied: scikit-learn in d:\\vs code prorgrams\\.venv2\\lib\\site-packages (1.7.1)\n",
      "Requirement already satisfied: numpy>=1.22.0 in d:\\vs code prorgrams\\.venv2\\lib\\site-packages (from scikit-learn) (2.1.3)\n",
      "Requirement already satisfied: scipy>=1.8.0 in d:\\vs code prorgrams\\.venv2\\lib\\site-packages (from scikit-learn) (1.16.1)\n",
      "Requirement already satisfied: joblib>=1.2.0 in d:\\vs code prorgrams\\.venv2\\lib\\site-packages (from scikit-learn) (1.5.1)\n",
      "Requirement already satisfied: threadpoolctl>=3.1.0 in d:\\vs code prorgrams\\.venv2\\lib\\site-packages (from scikit-learn) (3.6.0)\n",
      "Note: you may need to restart the kernel to use updated packages.\n"
     ]
    },
    {
     "name": "stderr",
     "output_type": "stream",
     "text": [
      "\n",
      "[notice] A new release of pip is available: 24.0 -> 25.1.1\n",
      "[notice] To update, run: python.exe -m pip install --upgrade pip\n"
     ]
    },
    {
     "name": "stdout",
     "output_type": "stream",
     "text": [
      "Requirement already satisfied: jupyter in d:\\vs code prorgrams\\.venv2\\lib\\site-packages (1.1.1)\n",
      "Requirement already satisfied: tensorflow in d:\\vs code prorgrams\\.venv2\\lib\\site-packages (2.19.0)\n",
      "Requirement already satisfied: notebook in d:\\vs code prorgrams\\.venv2\\lib\\site-packages (from jupyter) (7.4.4)\n",
      "Requirement already satisfied: jupyter-console in d:\\vs code prorgrams\\.venv2\\lib\\site-packages (from jupyter) (6.6.3)\n",
      "Requirement already satisfied: nbconvert in d:\\vs code prorgrams\\.venv2\\lib\\site-packages (from jupyter) (7.16.6)\n",
      "Requirement already satisfied: ipykernel in d:\\vs code prorgrams\\.venv2\\lib\\site-packages (from jupyter) (6.30.0)\n",
      "Requirement already satisfied: ipywidgets in d:\\vs code prorgrams\\.venv2\\lib\\site-packages (from jupyter) (8.1.7)\n",
      "Requirement already satisfied: jupyterlab in d:\\vs code prorgrams\\.venv2\\lib\\site-packages (from jupyter) (4.4.5)\n",
      "Requirement already satisfied: absl-py>=1.0.0 in d:\\vs code prorgrams\\.venv2\\lib\\site-packages (from tensorflow) (2.3.1)\n",
      "Requirement already satisfied: astunparse>=1.6.0 in d:\\vs code prorgrams\\.venv2\\lib\\site-packages (from tensorflow) (1.6.3)\n",
      "Requirement already satisfied: flatbuffers>=24.3.25 in d:\\vs code prorgrams\\.venv2\\lib\\site-packages (from tensorflow) (25.2.10)\n",
      "Requirement already satisfied: gast!=0.5.0,!=0.5.1,!=0.5.2,>=0.2.1 in d:\\vs code prorgrams\\.venv2\\lib\\site-packages (from tensorflow) (0.6.0)\n",
      "Requirement already satisfied: google-pasta>=0.1.1 in d:\\vs code prorgrams\\.venv2\\lib\\site-packages (from tensorflow) (0.2.0)\n",
      "Requirement already satisfied: libclang>=13.0.0 in d:\\vs code prorgrams\\.venv2\\lib\\site-packages (from tensorflow) (18.1.1)\n",
      "Requirement already satisfied: opt-einsum>=2.3.2 in d:\\vs code prorgrams\\.venv2\\lib\\site-packages (from tensorflow) (3.4.0)\n",
      "Requirement already satisfied: packaging in d:\\vs code prorgrams\\.venv2\\lib\\site-packages (from tensorflow) (25.0)\n",
      "Requirement already satisfied: protobuf!=4.21.0,!=4.21.1,!=4.21.2,!=4.21.3,!=4.21.4,!=4.21.5,<6.0.0dev,>=3.20.3 in d:\\vs code prorgrams\\.venv2\\lib\\site-packages (from tensorflow) (5.29.5)\n",
      "Requirement already satisfied: requests<3,>=2.21.0 in d:\\vs code prorgrams\\.venv2\\lib\\site-packages (from tensorflow) (2.32.4)\n",
      "Requirement already satisfied: setuptools in d:\\vs code prorgrams\\.venv2\\lib\\site-packages (from tensorflow) (80.9.0)\n",
      "Requirement already satisfied: six>=1.12.0 in d:\\vs code prorgrams\\.venv2\\lib\\site-packages (from tensorflow) (1.17.0)\n",
      "Requirement already satisfied: termcolor>=1.1.0 in d:\\vs code prorgrams\\.venv2\\lib\\site-packages (from tensorflow) (3.1.0)\n",
      "Requirement already satisfied: typing-extensions>=3.6.6 in d:\\vs code prorgrams\\.venv2\\lib\\site-packages (from tensorflow) (4.14.1)\n",
      "Requirement already satisfied: wrapt>=1.11.0 in d:\\vs code prorgrams\\.venv2\\lib\\site-packages (from tensorflow) (1.17.2)\n",
      "Requirement already satisfied: grpcio<2.0,>=1.24.3 in d:\\vs code prorgrams\\.venv2\\lib\\site-packages (from tensorflow) (1.74.0)\n",
      "Requirement already satisfied: tensorboard~=2.19.0 in d:\\vs code prorgrams\\.venv2\\lib\\site-packages (from tensorflow) (2.19.0)\n",
      "Requirement already satisfied: keras>=3.5.0 in d:\\vs code prorgrams\\.venv2\\lib\\site-packages (from tensorflow) (3.10.0)\n",
      "Requirement already satisfied: numpy<2.2.0,>=1.26.0 in d:\\vs code prorgrams\\.venv2\\lib\\site-packages (from tensorflow) (2.1.3)\n",
      "Requirement already satisfied: h5py>=3.11.0 in d:\\vs code prorgrams\\.venv2\\lib\\site-packages (from tensorflow) (3.14.0)\n",
      "Requirement already satisfied: ml-dtypes<1.0.0,>=0.5.1 in d:\\vs code prorgrams\\.venv2\\lib\\site-packages (from tensorflow) (0.5.1)\n",
      "Requirement already satisfied: wheel<1.0,>=0.23.0 in d:\\vs code prorgrams\\.venv2\\lib\\site-packages (from astunparse>=1.6.0->tensorflow) (0.45.1)\n",
      "Requirement already satisfied: rich in d:\\vs code prorgrams\\.venv2\\lib\\site-packages (from keras>=3.5.0->tensorflow) (14.1.0)\n",
      "Requirement already satisfied: namex in d:\\vs code prorgrams\\.venv2\\lib\\site-packages (from keras>=3.5.0->tensorflow) (0.1.0)\n",
      "Requirement already satisfied: optree in d:\\vs code prorgrams\\.venv2\\lib\\site-packages (from keras>=3.5.0->tensorflow) (0.17.0)\n",
      "Requirement already satisfied: charset_normalizer<4,>=2 in d:\\vs code prorgrams\\.venv2\\lib\\site-packages (from requests<3,>=2.21.0->tensorflow) (3.4.2)\n",
      "Requirement already satisfied: idna<4,>=2.5 in d:\\vs code prorgrams\\.venv2\\lib\\site-packages (from requests<3,>=2.21.0->tensorflow) (3.10)\n",
      "Requirement already satisfied: urllib3<3,>=1.21.1 in d:\\vs code prorgrams\\.venv2\\lib\\site-packages (from requests<3,>=2.21.0->tensorflow) (2.5.0)\n",
      "Requirement already satisfied: certifi>=2017.4.17 in d:\\vs code prorgrams\\.venv2\\lib\\site-packages (from requests<3,>=2.21.0->tensorflow) (2025.7.14)\n",
      "Requirement already satisfied: markdown>=2.6.8 in d:\\vs code prorgrams\\.venv2\\lib\\site-packages (from tensorboard~=2.19.0->tensorflow) (3.8.2)\n",
      "Requirement already satisfied: tensorboard-data-server<0.8.0,>=0.7.0 in d:\\vs code prorgrams\\.venv2\\lib\\site-packages (from tensorboard~=2.19.0->tensorflow) (0.7.2)\n",
      "Requirement already satisfied: werkzeug>=1.0.1 in d:\\vs code prorgrams\\.venv2\\lib\\site-packages (from tensorboard~=2.19.0->tensorflow) (3.1.3)\n",
      "Requirement already satisfied: comm>=0.1.1 in d:\\vs code prorgrams\\.venv2\\lib\\site-packages (from ipykernel->jupyter) (0.2.3)\n",
      "Requirement already satisfied: debugpy>=1.6.5 in d:\\vs code prorgrams\\.venv2\\lib\\site-packages (from ipykernel->jupyter) (1.8.15)\n",
      "Requirement already satisfied: ipython>=7.23.1 in d:\\vs code prorgrams\\.venv2\\lib\\site-packages (from ipykernel->jupyter) (9.4.0)\n",
      "Requirement already satisfied: jupyter-client>=8.0.0 in d:\\vs code prorgrams\\.venv2\\lib\\site-packages (from ipykernel->jupyter) (8.6.3)\n",
      "Requirement already satisfied: jupyter-core!=5.0.*,>=4.12 in d:\\vs code prorgrams\\.venv2\\lib\\site-packages (from ipykernel->jupyter) (5.8.1)\n",
      "Requirement already satisfied: matplotlib-inline>=0.1 in d:\\vs code prorgrams\\.venv2\\lib\\site-packages (from ipykernel->jupyter) (0.1.7)\n",
      "Requirement already satisfied: nest-asyncio>=1.4 in d:\\vs code prorgrams\\.venv2\\lib\\site-packages (from ipykernel->jupyter) (1.6.0)\n",
      "Requirement already satisfied: psutil>=5.7 in d:\\vs code prorgrams\\.venv2\\lib\\site-packages (from ipykernel->jupyter) (7.0.0)\n",
      "Requirement already satisfied: pyzmq>=25 in d:\\vs code prorgrams\\.venv2\\lib\\site-packages (from ipykernel->jupyter) (27.0.0)\n",
      "Requirement already satisfied: tornado>=6.2 in d:\\vs code prorgrams\\.venv2\\lib\\site-packages (from ipykernel->jupyter) (6.5.1)\n",
      "Requirement already satisfied: traitlets>=5.4.0 in d:\\vs code prorgrams\\.venv2\\lib\\site-packages (from ipykernel->jupyter) (5.14.3)\n",
      "Requirement already satisfied: widgetsnbextension~=4.0.14 in d:\\vs code prorgrams\\.venv2\\lib\\site-packages (from ipywidgets->jupyter) (4.0.14)\n",
      "Requirement already satisfied: jupyterlab_widgets~=3.0.15 in d:\\vs code prorgrams\\.venv2\\lib\\site-packages (from ipywidgets->jupyter) (3.0.15)\n",
      "Requirement already satisfied: prompt-toolkit>=3.0.30 in d:\\vs code prorgrams\\.venv2\\lib\\site-packages (from jupyter-console->jupyter) (3.0.51)\n",
      "Requirement already satisfied: pygments in d:\\vs code prorgrams\\.venv2\\lib\\site-packages (from jupyter-console->jupyter) (2.19.2)\n",
      "Requirement already satisfied: async-lru>=1.0.0 in d:\\vs code prorgrams\\.venv2\\lib\\site-packages (from jupyterlab->jupyter) (2.0.5)\n",
      "Requirement already satisfied: httpx>=0.25.0 in d:\\vs code prorgrams\\.venv2\\lib\\site-packages (from jupyterlab->jupyter) (0.28.1)\n",
      "Requirement already satisfied: jinja2>=3.0.3 in d:\\vs code prorgrams\\.venv2\\lib\\site-packages (from jupyterlab->jupyter) (3.1.6)\n",
      "Requirement already satisfied: jupyter-lsp>=2.0.0 in d:\\vs code prorgrams\\.venv2\\lib\\site-packages (from jupyterlab->jupyter) (2.2.6)\n",
      "Requirement already satisfied: jupyter-server<3,>=2.4.0 in d:\\vs code prorgrams\\.venv2\\lib\\site-packages (from jupyterlab->jupyter) (2.16.0)\n",
      "Requirement already satisfied: jupyterlab-server<3,>=2.27.1 in d:\\vs code prorgrams\\.venv2\\lib\\site-packages (from jupyterlab->jupyter) (2.27.3)\n",
      "Requirement already satisfied: notebook-shim>=0.2 in d:\\vs code prorgrams\\.venv2\\lib\\site-packages (from jupyterlab->jupyter) (0.2.4)\n",
      "Requirement already satisfied: beautifulsoup4 in d:\\vs code prorgrams\\.venv2\\lib\\site-packages (from nbconvert->jupyter) (4.13.4)\n",
      "Requirement already satisfied: bleach!=5.0.0 in d:\\vs code prorgrams\\.venv2\\lib\\site-packages (from bleach[css]!=5.0.0->nbconvert->jupyter) (6.2.0)\n",
      "Requirement already satisfied: defusedxml in d:\\vs code prorgrams\\.venv2\\lib\\site-packages (from nbconvert->jupyter) (0.7.1)\n",
      "Requirement already satisfied: jupyterlab-pygments in d:\\vs code prorgrams\\.venv2\\lib\\site-packages (from nbconvert->jupyter) (0.3.0)\n",
      "Requirement already satisfied: markupsafe>=2.0 in d:\\vs code prorgrams\\.venv2\\lib\\site-packages (from nbconvert->jupyter) (3.0.2)\n",
      "Requirement already satisfied: mistune<4,>=2.0.3 in d:\\vs code prorgrams\\.venv2\\lib\\site-packages (from nbconvert->jupyter) (3.1.3)\n",
      "Requirement already satisfied: nbclient>=0.5.0 in d:\\vs code prorgrams\\.venv2\\lib\\site-packages (from nbconvert->jupyter) (0.10.2)\n",
      "Requirement already satisfied: nbformat>=5.7 in d:\\vs code prorgrams\\.venv2\\lib\\site-packages (from nbconvert->jupyter) (5.10.4)\n",
      "Requirement already satisfied: pandocfilters>=1.4.1 in d:\\vs code prorgrams\\.venv2\\lib\\site-packages (from nbconvert->jupyter) (1.5.1)\n",
      "Requirement already satisfied: webencodings in d:\\vs code prorgrams\\.venv2\\lib\\site-packages (from bleach!=5.0.0->bleach[css]!=5.0.0->nbconvert->jupyter) (0.5.1)\n",
      "Requirement already satisfied: tinycss2<1.5,>=1.1.0 in d:\\vs code prorgrams\\.venv2\\lib\\site-packages (from bleach[css]!=5.0.0->nbconvert->jupyter) (1.4.0)\n",
      "Requirement already satisfied: anyio in d:\\vs code prorgrams\\.venv2\\lib\\site-packages (from httpx>=0.25.0->jupyterlab->jupyter) (4.9.0)\n",
      "Requirement already satisfied: httpcore==1.* in d:\\vs code prorgrams\\.venv2\\lib\\site-packages (from httpx>=0.25.0->jupyterlab->jupyter) (1.0.9)\n",
      "Requirement already satisfied: h11>=0.16 in d:\\vs code prorgrams\\.venv2\\lib\\site-packages (from httpcore==1.*->httpx>=0.25.0->jupyterlab->jupyter) (0.16.0)\n",
      "Requirement already satisfied: colorama in d:\\vs code prorgrams\\.venv2\\lib\\site-packages (from ipython>=7.23.1->ipykernel->jupyter) (0.4.6)\n",
      "Requirement already satisfied: decorator in d:\\vs code prorgrams\\.venv2\\lib\\site-packages (from ipython>=7.23.1->ipykernel->jupyter) (5.2.1)\n",
      "Requirement already satisfied: ipython-pygments-lexers in d:\\vs code prorgrams\\.venv2\\lib\\site-packages (from ipython>=7.23.1->ipykernel->jupyter) (1.1.1)\n",
      "Requirement already satisfied: jedi>=0.16 in d:\\vs code prorgrams\\.venv2\\lib\\site-packages (from ipython>=7.23.1->ipykernel->jupyter) (0.19.2)\n",
      "Requirement already satisfied: stack_data in d:\\vs code prorgrams\\.venv2\\lib\\site-packages (from ipython>=7.23.1->ipykernel->jupyter) (0.6.3)\n",
      "Requirement already satisfied: python-dateutil>=2.8.2 in d:\\vs code prorgrams\\.venv2\\lib\\site-packages (from jupyter-client>=8.0.0->ipykernel->jupyter) (2.9.0.post0)\n",
      "Requirement already satisfied: platformdirs>=2.5 in d:\\vs code prorgrams\\.venv2\\lib\\site-packages (from jupyter-core!=5.0.*,>=4.12->ipykernel->jupyter) (4.3.8)\n",
      "Requirement already satisfied: pywin32>=300 in d:\\vs code prorgrams\\.venv2\\lib\\site-packages (from jupyter-core!=5.0.*,>=4.12->ipykernel->jupyter) (311)\n",
      "Requirement already satisfied: argon2-cffi>=21.1 in d:\\vs code prorgrams\\.venv2\\lib\\site-packages (from jupyter-server<3,>=2.4.0->jupyterlab->jupyter) (25.1.0)\n",
      "Requirement already satisfied: jupyter-events>=0.11.0 in d:\\vs code prorgrams\\.venv2\\lib\\site-packages (from jupyter-server<3,>=2.4.0->jupyterlab->jupyter) (0.12.0)\n",
      "Requirement already satisfied: jupyter-server-terminals>=0.4.4 in d:\\vs code prorgrams\\.venv2\\lib\\site-packages (from jupyter-server<3,>=2.4.0->jupyterlab->jupyter) (0.5.3)\n",
      "Requirement already satisfied: overrides>=5.0 in d:\\vs code prorgrams\\.venv2\\lib\\site-packages (from jupyter-server<3,>=2.4.0->jupyterlab->jupyter) (7.7.0)\n",
      "Requirement already satisfied: prometheus-client>=0.9 in d:\\vs code prorgrams\\.venv2\\lib\\site-packages (from jupyter-server<3,>=2.4.0->jupyterlab->jupyter) (0.22.1)\n",
      "Requirement already satisfied: pywinpty>=2.0.1 in d:\\vs code prorgrams\\.venv2\\lib\\site-packages (from jupyter-server<3,>=2.4.0->jupyterlab->jupyter) (2.0.15)\n",
      "Requirement already satisfied: send2trash>=1.8.2 in d:\\vs code prorgrams\\.venv2\\lib\\site-packages (from jupyter-server<3,>=2.4.0->jupyterlab->jupyter) (1.8.3)\n",
      "Requirement already satisfied: terminado>=0.8.3 in d:\\vs code prorgrams\\.venv2\\lib\\site-packages (from jupyter-server<3,>=2.4.0->jupyterlab->jupyter) (0.18.1)\n",
      "Requirement already satisfied: websocket-client>=1.7 in d:\\vs code prorgrams\\.venv2\\lib\\site-packages (from jupyter-server<3,>=2.4.0->jupyterlab->jupyter) (1.8.0)\n",
      "Requirement already satisfied: babel>=2.10 in d:\\vs code prorgrams\\.venv2\\lib\\site-packages (from jupyterlab-server<3,>=2.27.1->jupyterlab->jupyter) (2.17.0)\n",
      "Requirement already satisfied: json5>=0.9.0 in d:\\vs code prorgrams\\.venv2\\lib\\site-packages (from jupyterlab-server<3,>=2.27.1->jupyterlab->jupyter) (0.12.0)\n",
      "Requirement already satisfied: jsonschema>=4.18.0 in d:\\vs code prorgrams\\.venv2\\lib\\site-packages (from jupyterlab-server<3,>=2.27.1->jupyterlab->jupyter) (4.25.0)\n",
      "Requirement already satisfied: fastjsonschema>=2.15 in d:\\vs code prorgrams\\.venv2\\lib\\site-packages (from nbformat>=5.7->nbconvert->jupyter) (2.21.1)\n",
      "Requirement already satisfied: wcwidth in d:\\vs code prorgrams\\.venv2\\lib\\site-packages (from prompt-toolkit>=3.0.30->jupyter-console->jupyter) (0.2.13)\n",
      "Requirement already satisfied: soupsieve>1.2 in d:\\vs code prorgrams\\.venv2\\lib\\site-packages (from beautifulsoup4->nbconvert->jupyter) (2.7)\n",
      "Requirement already satisfied: markdown-it-py>=2.2.0 in d:\\vs code prorgrams\\.venv2\\lib\\site-packages (from rich->keras>=3.5.0->tensorflow) (3.0.0)\n",
      "Requirement already satisfied: sniffio>=1.1 in d:\\vs code prorgrams\\.venv2\\lib\\site-packages (from anyio->httpx>=0.25.0->jupyterlab->jupyter) (1.3.1)\n",
      "Requirement already satisfied: argon2-cffi-bindings in d:\\vs code prorgrams\\.venv2\\lib\\site-packages (from argon2-cffi>=21.1->jupyter-server<3,>=2.4.0->jupyterlab->jupyter) (21.2.0)\n",
      "Requirement already satisfied: parso<0.9.0,>=0.8.4 in d:\\vs code prorgrams\\.venv2\\lib\\site-packages (from jedi>=0.16->ipython>=7.23.1->ipykernel->jupyter) (0.8.4)\n",
      "Requirement already satisfied: attrs>=22.2.0 in d:\\vs code prorgrams\\.venv2\\lib\\site-packages (from jsonschema>=4.18.0->jupyterlab-server<3,>=2.27.1->jupyterlab->jupyter) (25.3.0)\n",
      "Requirement already satisfied: jsonschema-specifications>=2023.03.6 in d:\\vs code prorgrams\\.venv2\\lib\\site-packages (from jsonschema>=4.18.0->jupyterlab-server<3,>=2.27.1->jupyterlab->jupyter) (2025.4.1)\n",
      "Requirement already satisfied: referencing>=0.28.4 in d:\\vs code prorgrams\\.venv2\\lib\\site-packages (from jsonschema>=4.18.0->jupyterlab-server<3,>=2.27.1->jupyterlab->jupyter) (0.36.2)\n",
      "Requirement already satisfied: rpds-py>=0.7.1 in d:\\vs code prorgrams\\.venv2\\lib\\site-packages (from jsonschema>=4.18.0->jupyterlab-server<3,>=2.27.1->jupyterlab->jupyter) (0.26.0)\n",
      "Requirement already satisfied: python-json-logger>=2.0.4 in d:\\vs code prorgrams\\.venv2\\lib\\site-packages (from jupyter-events>=0.11.0->jupyter-server<3,>=2.4.0->jupyterlab->jupyter) (3.3.0)\n",
      "Requirement already satisfied: pyyaml>=5.3 in d:\\vs code prorgrams\\.venv2\\lib\\site-packages (from jupyter-events>=0.11.0->jupyter-server<3,>=2.4.0->jupyterlab->jupyter) (6.0.2)\n",
      "Requirement already satisfied: rfc3339-validator in d:\\vs code prorgrams\\.venv2\\lib\\site-packages (from jupyter-events>=0.11.0->jupyter-server<3,>=2.4.0->jupyterlab->jupyter) (0.1.4)\n",
      "Requirement already satisfied: rfc3986-validator>=0.1.1 in d:\\vs code prorgrams\\.venv2\\lib\\site-packages (from jupyter-events>=0.11.0->jupyter-server<3,>=2.4.0->jupyterlab->jupyter) (0.1.1)\n",
      "Requirement already satisfied: mdurl~=0.1 in d:\\vs code prorgrams\\.venv2\\lib\\site-packages (from markdown-it-py>=2.2.0->rich->keras>=3.5.0->tensorflow) (0.1.2)\n",
      "Requirement already satisfied: executing>=1.2.0 in d:\\vs code prorgrams\\.venv2\\lib\\site-packages (from stack_data->ipython>=7.23.1->ipykernel->jupyter) (2.2.0)\n",
      "Requirement already satisfied: asttokens>=2.1.0 in d:\\vs code prorgrams\\.venv2\\lib\\site-packages (from stack_data->ipython>=7.23.1->ipykernel->jupyter) (3.0.0)\n",
      "Requirement already satisfied: pure-eval in d:\\vs code prorgrams\\.venv2\\lib\\site-packages (from stack_data->ipython>=7.23.1->ipykernel->jupyter) (0.2.3)\n",
      "Requirement already satisfied: fqdn in d:\\vs code prorgrams\\.venv2\\lib\\site-packages (from jsonschema[format-nongpl]>=4.18.0->jupyter-events>=0.11.0->jupyter-server<3,>=2.4.0->jupyterlab->jupyter) (1.5.1)\n",
      "Requirement already satisfied: isoduration in d:\\vs code prorgrams\\.venv2\\lib\\site-packages (from jsonschema[format-nongpl]>=4.18.0->jupyter-events>=0.11.0->jupyter-server<3,>=2.4.0->jupyterlab->jupyter) (20.11.0)\n",
      "Requirement already satisfied: jsonpointer>1.13 in d:\\vs code prorgrams\\.venv2\\lib\\site-packages (from jsonschema[format-nongpl]>=4.18.0->jupyter-events>=0.11.0->jupyter-server<3,>=2.4.0->jupyterlab->jupyter) (3.0.0)\n",
      "Requirement already satisfied: rfc3987-syntax>=1.1.0 in d:\\vs code prorgrams\\.venv2\\lib\\site-packages (from jsonschema[format-nongpl]>=4.18.0->jupyter-events>=0.11.0->jupyter-server<3,>=2.4.0->jupyterlab->jupyter) (1.1.0)\n",
      "Requirement already satisfied: uri-template in d:\\vs code prorgrams\\.venv2\\lib\\site-packages (from jsonschema[format-nongpl]>=4.18.0->jupyter-events>=0.11.0->jupyter-server<3,>=2.4.0->jupyterlab->jupyter) (1.3.0)\n",
      "Requirement already satisfied: webcolors>=24.6.0 in d:\\vs code prorgrams\\.venv2\\lib\\site-packages (from jsonschema[format-nongpl]>=4.18.0->jupyter-events>=0.11.0->jupyter-server<3,>=2.4.0->jupyterlab->jupyter) (24.11.1)\n",
      "Requirement already satisfied: cffi>=1.0.1 in d:\\vs code prorgrams\\.venv2\\lib\\site-packages (from argon2-cffi-bindings->argon2-cffi>=21.1->jupyter-server<3,>=2.4.0->jupyterlab->jupyter) (1.17.1)\n",
      "Requirement already satisfied: pycparser in d:\\vs code prorgrams\\.venv2\\lib\\site-packages (from cffi>=1.0.1->argon2-cffi-bindings->argon2-cffi>=21.1->jupyter-server<3,>=2.4.0->jupyterlab->jupyter) (2.22)\n",
      "Requirement already satisfied: lark>=1.2.2 in d:\\vs code prorgrams\\.venv2\\lib\\site-packages (from rfc3987-syntax>=1.1.0->jsonschema[format-nongpl]>=4.18.0->jupyter-events>=0.11.0->jupyter-server<3,>=2.4.0->jupyterlab->jupyter) (1.2.2)\n",
      "Requirement already satisfied: arrow>=0.15.0 in d:\\vs code prorgrams\\.venv2\\lib\\site-packages (from isoduration->jsonschema[format-nongpl]>=4.18.0->jupyter-events>=0.11.0->jupyter-server<3,>=2.4.0->jupyterlab->jupyter) (1.3.0)\n",
      "Requirement already satisfied: types-python-dateutil>=2.8.10 in d:\\vs code prorgrams\\.venv2\\lib\\site-packages (from arrow>=0.15.0->isoduration->jsonschema[format-nongpl]>=4.18.0->jupyter-events>=0.11.0->jupyter-server<3,>=2.4.0->jupyterlab->jupyter) (2.9.0.20250708)\n",
      "Note: you may need to restart the kernel to use updated packages.\n"
     ]
    },
    {
     "name": "stderr",
     "output_type": "stream",
     "text": [
      "\n",
      "[notice] A new release of pip is available: 24.0 -> 25.1.1\n",
      "[notice] To update, run: python.exe -m pip install --upgrade pip\n"
     ]
    }
   ],
   "source": [
    "%pip install seaborn\n",
    "%pip install missingno\n",
    "%pip install plotly\n",
    "%pip install numpy\n",
    "%pip install pandas\n",
    "%pip install nltk\n",
    "%pip install nbformat\n",
    "%pip install scikit-learn\n",
    "%pip install jupyter tensorflow"
   ]
  },
  {
   "cell_type": "code",
   "execution_count": 2,
   "id": "3d69a228",
   "metadata": {},
   "outputs": [
    {
     "name": "stdout",
     "output_type": "stream",
     "text": [
      "Collecting xgboost\n",
      "  Using cached xgboost-3.0.2-py3-none-win_amd64.whl.metadata (2.1 kB)\n",
      "Collecting numpy (from xgboost)\n",
      "  Using cached numpy-2.3.2-cp312-cp312-win_amd64.whl.metadata (60 kB)\n",
      "Collecting scipy (from xgboost)\n",
      "  Using cached scipy-1.16.1-cp312-cp312-win_amd64.whl.metadata (60 kB)\n",
      "Using cached xgboost-3.0.2-py3-none-win_amd64.whl (150.0 MB)\n",
      "Using cached numpy-2.3.2-cp312-cp312-win_amd64.whl (12.8 MB)\n",
      "Using cached scipy-1.16.1-cp312-cp312-win_amd64.whl (38.5 MB)\n",
      "Installing collected packages: numpy, scipy, xgboost\n",
      "  Attempting uninstall: numpy\n",
      "    Found existing installation: numpy 2.1.3\n",
      "    Uninstalling numpy-2.1.3:\n",
      "      Successfully uninstalled numpy-2.1.3\n",
      "  Attempting uninstall: scipy\n",
      "    Found existing installation: scipy 1.16.1\n",
      "    Uninstalling scipy-1.16.1:\n",
      "      Successfully uninstalled scipy-1.16.1\n",
      "Successfully installed numpy-2.3.2 scipy-1.16.1 xgboost-3.0.2\n",
      "Note: you may need to restart the kernel to use updated packages.\n"
     ]
    },
    {
     "name": "stderr",
     "output_type": "stream",
     "text": [
      "  WARNING: Failed to remove contents in a temporary directory 'D:\\VS Code Prorgrams\\.venv2\\Lib\\site-packages\\~umpy.libs'.\n",
      "  You can safely remove it manually.\n",
      "  WARNING: Failed to remove contents in a temporary directory 'D:\\VS Code Prorgrams\\.venv2\\Lib\\site-packages\\~umpy'.\n",
      "  You can safely remove it manually.\n",
      "  WARNING: Failed to remove contents in a temporary directory 'D:\\VS Code Prorgrams\\.venv2\\Lib\\site-packages\\~cipy.libs'.\n",
      "  You can safely remove it manually.\n",
      "  WARNING: Failed to remove contents in a temporary directory 'D:\\VS Code Prorgrams\\.venv2\\Lib\\site-packages\\~cipy'.\n",
      "  You can safely remove it manually.\n",
      "ERROR: pip's dependency resolver does not currently take into account all the packages that are installed. This behaviour is the source of the following dependency conflicts.\n",
      "tensorflow 2.19.0 requires numpy<2.2.0,>=1.26.0, but you have numpy 2.3.2 which is incompatible.\n",
      "\n",
      "[notice] A new release of pip is available: 24.0 -> 25.1.1\n",
      "[notice] To update, run: python.exe -m pip install --upgrade pip\n"
     ]
    }
   ],
   "source": [
    "\n",
    "pip install --upgrade --force-reinstall xgboost\n"
   ]
  },
  {
   "cell_type": "markdown",
   "id": "f3602fce",
   "metadata": {},
   "source": [
    "## Imports"
   ]
  },
  {
   "cell_type": "code",
   "execution_count": 3,
   "id": "688cb38b",
   "metadata": {},
   "outputs": [],
   "source": [
    "import pandas as pd\n",
    "from sklearn.model_selection import train_test_split\n",
    "from sklearn.preprocessing import OneHotEncoder\n",
    "from sklearn.compose import ColumnTransformer\n",
    "from xgboost import XGBRegressor\n",
    "from sklearn.metrics import mean_squared_error, mean_absolute_error"
   ]
  },
  {
   "cell_type": "markdown",
   "id": "5d431e23",
   "metadata": {},
   "source": [
    "## Read Data"
   ]
  },
  {
   "cell_type": "code",
   "execution_count": 4,
   "id": "4758d30a",
   "metadata": {},
   "outputs": [],
   "source": [
    "df = pd.read_csv('hospital_cleaned.csv')\n",
    "df.drop(df[df['length_of_stay'] > 21].index, inplace=True)"
   ]
  },
  {
   "cell_type": "markdown",
   "id": "d4f27f71",
   "metadata": {},
   "source": [
    "## Convert applicable colunms to numeric"
   ]
  },
  {
   "cell_type": "code",
   "execution_count": 5,
   "id": "c0220c60",
   "metadata": {},
   "outputs": [
    {
     "name": "stdout",
     "output_type": "stream",
     "text": [
      "     age_group  age_group_code\n",
      "1     18 to 29               1\n",
      "2  70 or Older               4\n",
      "3     50 to 69               3\n",
      "4     50 to 69               3\n",
      "5      0 to 17               0\n"
     ]
    }
   ],
   "source": [
    "# age group\n",
    "age_code_map = {\n",
    "    \"0 to 17\":      0,\n",
    "    \"18 to 29\":     1,\n",
    "    \"30 to 49\":     2,\n",
    "    \"50 to 69\":     3,\n",
    "    \"70 or Older\":  4\n",
    "}\n",
    "\n",
    "# Map the age group to a numerical code\n",
    "df[\"age_group_code\"] = df[\"age_group\"].map(age_code_map)\n",
    "\n",
    "# Quick check of the result\n",
    "print(df[[\"age_group\", \"age_group_code\"]].head())"
   ]
  },
  {
   "cell_type": "code",
   "execution_count": 6,
   "id": "8b23fba5",
   "metadata": {},
   "outputs": [
    {
     "name": "stdout",
     "output_type": "stream",
     "text": [
      "  apr_risk_of_mortality  apr_risk_of_mortality_code\n",
      "1                 Minor                           0\n",
      "2                 Major                           2\n",
      "3                 Minor                           0\n",
      "4              Moderate                           1\n",
      "5                 Minor                           0\n"
     ]
    }
   ],
   "source": [
    "mortality_risk_code_map = {\n",
    "   \"Minor\":      0,\n",
    "   \"Moderate\":     1,\n",
    "   \"Major\":     2,\n",
    "   \"Extreme\":     3,\n",
    "}\n",
    "df[\"apr_risk_of_mortality_code\"] = df[\"apr_risk_of_mortality\"].map(mortality_risk_code_map)\n",
    "# 4. Quick check\n",
    "print(df[[\"apr_risk_of_mortality\", \"apr_risk_of_mortality_code\"]].head())"
   ]
  },
  {
   "cell_type": "code",
   "execution_count": 7,
   "id": "90601275",
   "metadata": {},
   "outputs": [
    {
     "name": "stdout",
     "output_type": "stream",
     "text": [
      "  apr_severity_of_illness_description  apr_severity_of_illness_code\n",
      "1                               Minor                             0\n",
      "2                               Major                             2\n",
      "3                            Moderate                             1\n",
      "4                               Major                             2\n",
      "5                            Moderate                             1\n"
     ]
    }
   ],
   "source": [
    "illness_severity_code_map = {\n",
    "   \"Minor\":      0,\n",
    "   \"Moderate\":     1,\n",
    "   \"Major\":     2,\n",
    "   \"Extreme\":     3,\n",
    "}\n",
    "df[\"apr_severity_of_illness_code\"] = df[\"apr_severity_of_illness_description\"].map(illness_severity_code_map)\n",
    "# 4. Quick check\n",
    "print(df[[\"apr_severity_of_illness_description\", \"apr_severity_of_illness_code\"]].head())"
   ]
  },
  {
   "cell_type": "markdown",
   "id": "d6401750",
   "metadata": {},
   "source": [
    "## Features "
   ]
  },
  {
   "cell_type": "code",
   "execution_count": 8,
   "id": "98ca4780",
   "metadata": {},
   "outputs": [],
   "source": [
    "## all features non numeirc\n",
    "features = [\n",
    "   \"gender\",\n",
    "    \"type_of_admission\",\n",
    "    \"apr_medical_surgical_description\",\n",
    "    \"emergency_department_indicator\",\n",
    "    \"ccsr_diagnosis_description\",\n",
    "    \"ccsr_procedure_description\",\n",
    "    \"apr_drg_description\",\n",
    "    \"apr_mdc_description\",\n",
    "    \"age_group\",\n",
    "    \"apr_risk_of_mortality\",\n",
    "    \"apr_severity_of_illness_description\"\n",
    "    \n",
    "]\n",
    "\n",
    "\n",
    "# feature split between numeric and categorical\n",
    "categorical_features = [\n",
    "    \"gender\",\n",
    "    \"type_of_admission\",\n",
    "    \"apr_medical_surgical_description\",\n",
    "    \"emergency_department_indicator\",\n",
    "    \"ccsr_diagnosis_description\",\n",
    "    \"ccsr_procedure_description\",\n",
    "    \"apr_drg_description\",\n",
    "    \"apr_mdc_description\"\n",
    "]\n",
    "numeric_features = [\n",
    "    \"age_group_code\",\n",
    "    \"apr_severity_of_illness_code\",\n",
    "    \"apr_risk_of_mortality_code\"\n",
    "]\n",
    "# define target variable\n",
    "target = \"length_of_stay\"\n",
    "# Change x value to categorical + numeric featrues to use numeric\n",
    "X = df[features]\n",
    "y = df[target]"
   ]
  },
  {
   "cell_type": "markdown",
   "id": "c4a0d330",
   "metadata": {},
   "source": [
    "## One hot encode"
   ]
  },
  {
   "cell_type": "code",
   "execution_count": null,
   "id": "0965f43a",
   "metadata": {},
   "outputs": [
    {
     "ename": "",
     "evalue": "",
     "output_type": "error",
     "traceback": [
      "\u001b[1;31mThe Kernel crashed while executing code in the current cell or a previous cell. \n",
      "\u001b[1;31mPlease review the code in the cell(s) to identify a possible cause of the failure. \n",
      "\u001b[1;31mClick <a href='https://aka.ms/vscodeJupyterKernelCrash'>here</a> for more info. \n",
      "\u001b[1;31mView Jupyter <a href='command:jupyter.viewOutput'>log</a> for further details."
     ]
    }
   ],
   "source": [
    "preprocessor = ColumnTransformer([\n",
    "    ('cat', OneHotEncoder(handle_unknown='ignore', sparse_output=False), features) # <-- change this features to categorical features if you are using them\n",
    "], remainder='drop')\n",
    "X_enc = preprocessor.fit_transform(X)"
   ]
  },
  {
   "cell_type": "markdown",
   "id": "6dcfcfe3",
   "metadata": {},
   "source": [
    "## Create, train and test the model"
   ]
  },
  {
   "cell_type": "code",
   "execution_count": null,
   "id": "fe881450",
   "metadata": {},
   "outputs": [],
   "source": [
    "X_train, X_test, y_train, y_test = train_test_split(\n",
    "    X_enc, y, test_size=0.2, random_state=42\n",
    ")\n",
    "xgb_model = XGBRegressor(\n",
    "    objective='reg:squarederror',\n",
    "    n_estimators=1000,\n",
    "    learning_rate=0.05,\n",
    "    max_depth=6,\n",
    "    subsample=0.8,\n",
    "    colsample_bytree=0.8,\n",
    "    random_state=42,\n",
    "    early_stopping_rounds=10,   \n",
    "    eval_metric='rmse'\n",
    ")\n",
    "xgb_model.fit(\n",
    "    X_train, y_train,\n",
    "    eval_set=[(X_train, y_train), (X_test, y_test)],\n",
    "    verbose=True\n",
    ")"
   ]
  },
  {
   "cell_type": "markdown",
   "id": "df7d4dc8",
   "metadata": {},
   "source": [
    "## Get the results"
   ]
  },
  {
   "cell_type": "code",
   "execution_count": null,
   "id": "8fbc56ea",
   "metadata": {},
   "outputs": [
    {
     "name": "stdout",
     "output_type": "stream",
     "text": [
      "Test MSE : 9.779\n",
      "Test RMSE: 3.127\n",
      "Test MAE : 2.103\n"
     ]
    }
   ],
   "source": [
    "preds = xgb_model.predict(X_test)\n",
    "mse  = mean_squared_error(y_test, preds)\n",
    "rmse = mse**0.5\n",
    "mae  = mean_absolute_error(y_test, preds)\n",
    "print(f\"Test MSE : {mse:.3f}\")\n",
    "print(f\"Test RMSE: {rmse:.3f}\")\n",
    "print(f\"Test MAE : {mae:.3f}\")"
   ]
  }
 ],
 "metadata": {
  "kernelspec": {
   "display_name": ".venv2 (3.12.3)",
   "language": "python",
   "name": "python3"
  },
  "language_info": {
   "codemirror_mode": {
    "name": "ipython",
    "version": 3
   },
   "file_extension": ".py",
   "mimetype": "text/x-python",
   "name": "python",
   "nbconvert_exporter": "python",
   "pygments_lexer": "ipython3",
   "version": "3.12.3"
  }
 },
 "nbformat": 4,
 "nbformat_minor": 5
}
