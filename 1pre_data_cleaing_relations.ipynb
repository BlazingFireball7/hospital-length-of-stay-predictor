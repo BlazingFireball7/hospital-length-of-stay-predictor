{
 "cells": [
  {
   "cell_type": "markdown",
   "id": "9184e85d",
   "metadata": {},
   "source": [
    "This file contains data visualizations on the original dataset before it was cleaned."
   ]
  },
  {
   "cell_type": "code",
   "execution_count": null,
   "id": "e95a5ffd",
   "metadata": {},
   "outputs": [],
   "source": [
    "%pip install seaborn\n",
    "%pip install missingno\n",
    "%pip install plotly\n",
    "%pip install numpy\n",
    "%pip install pandas\n",
    "%pip install nltk\n",
    "%pip install nbformat\n",
    "%pip install scikit-learn\n",
    "%pip install jupyter tensorflow\n"
   ]
  },
  {
   "cell_type": "code",
   "execution_count": null,
   "id": "046211e8",
   "metadata": {},
   "outputs": [],
   "source": [
    "import sys\n",
    "print(sys.executable)\n",
    "!{sys.executable} -m pip install nbformat"
   ]
  },
  {
   "cell_type": "code",
   "execution_count": null,
   "id": "3fecb897",
   "metadata": {},
   "outputs": [],
   "source": [
    "import seaborn as sns\n",
    "import plotly.express as px\n",
    "import plotly.graph_objects as go"
   ]
  },
  {
   "cell_type": "code",
   "execution_count": null,
   "id": "87b6603e",
   "metadata": {},
   "outputs": [],
   "source": [
    "# Data Processing\n",
    "import os\n",
    "import numpy as np\n",
    "import pandas as pd\n",
    "# Basic Visualization tools\n",
    "import matplotlib.pyplot as plt\n",
    "import warnings\n",
    "warnings.filterwarnings('ignore')\n",
    "plt.rcParams['figure.dpi'] = 300\n",
    "data = pd.read_csv('./hospital.csv')"
   ]
  },
  {
   "cell_type": "code",
   "execution_count": null,
   "id": "330af288",
   "metadata": {},
   "outputs": [],
   "source": [
    "import missingno as msno\n",
    "msno.matrix(data)\n"
   ]
  },
  {
   "cell_type": "code",
   "execution_count": null,
   "id": "15c13236",
   "metadata": {},
   "outputs": [],
   "source": [
    "print(data.head())\n",
    "print(data.tail())"
   ]
  },
  {
   "cell_type": "code",
   "execution_count": null,
   "id": "7d9cdee1",
   "metadata": {},
   "outputs": [],
   "source": [
    "fig = px.histogram(data, x=\"Hospital Service Area\", y=\"Length of Stay\", color=\"Gender\")\n",
    "fig.update_layout(barmode='group')\n",
    "fig.show()"
   ]
  },
  {
   "cell_type": "code",
   "execution_count": null,
   "id": "7ad1a517",
   "metadata": {},
   "outputs": [],
   "source": [
    "fig = px.scatter(data, x='Zip Code - 3 digits', y='Length of Stay', color='Gender')\n",
    "fig.show()"
   ]
  },
  {
   "cell_type": "code",
   "execution_count": null,
   "id": "4ee133c0",
   "metadata": {},
   "outputs": [],
   "source": [
    "fig = px.scatter(data, x='Length of Stay', y='Hospital Service Area', color='Type of Admission')\n",
    "fig.show()"
   ]
  },
  {
   "cell_type": "code",
   "execution_count": null,
   "id": "a53c7af5",
   "metadata": {},
   "outputs": [],
   "source": [
    "fig = px.histogram(data, x=\"Hospital Service Area\", y=\"Length of Stay\", color=\"Type of Admission\")\n",
    "fig.update_layout(barmode='group')\n",
    "fig.show()"
   ]
  },
  {
   "cell_type": "code",
   "execution_count": null,
   "id": "cc34d1e8",
   "metadata": {},
   "outputs": [],
   "source": []
  },
  {
   "cell_type": "code",
   "execution_count": null,
   "id": "f8b56cb9",
   "metadata": {},
   "outputs": [],
   "source": [
    "# type 3 : with size & color\n",
    "fig = px.scatter(data, x='APR Severity of Illness Code', y='Length of Stay',\n",
    "                 color='APR Severity of Illness Code',\n",
    "                 size='APR Severity of Illness Code',\n",
    "                )\n",
    "fig.show()"
   ]
  },
  {
   "cell_type": "code",
   "execution_count": null,
   "id": "436887ff",
   "metadata": {},
   "outputs": [],
   "source": [
    "fig = go.Figure()\n",
    "fig.add_trace(\n",
    "    go.Table(header=dict(values=data.columns, fill_color='paleturquoise'),\n",
    "            cells=dict(values=data.head(100).T, fill_color='lavender'))\n",
    ")\n",
    "fig.show()"
   ]
  },
  {
   "cell_type": "code",
   "execution_count": null,
   "id": "1eacda0a",
   "metadata": {},
   "outputs": [],
   "source": [
    "for col in data.columns:\n",
    "    print(f\"{col}: {data[col].dtype}\")"
   ]
  },
  {
   "cell_type": "code",
   "execution_count": null,
   "id": "6ccdc2a5",
   "metadata": {},
   "outputs": [],
   "source": [
    "print((data.isnull() == True).sum())"
   ]
  },
  {
   "cell_type": "code",
   "execution_count": null,
   "id": "f9a8c313",
   "metadata": {},
   "outputs": [],
   "source": [
    "zero = (data[\"APR Severity of Illness Code\"] == 0).sum()\n",
    "print(zero)"
   ]
  }
 ],
 "metadata": {
  "kernelspec": {
   "display_name": ".venv2 (3.12.3)",
   "language": "python",
   "name": "python3"
  },
  "language_info": {
   "codemirror_mode": {
    "name": "ipython",
    "version": 3
   },
   "file_extension": ".py",
   "mimetype": "text/x-python",
   "name": "python",
   "nbconvert_exporter": "python",
   "pygments_lexer": "ipython3",
   "version": "3.12.3"
  }
 },
 "nbformat": 4,
 "nbformat_minor": 5
}
