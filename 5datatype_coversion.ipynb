{
 "cells": [
  {
   "cell_type": "markdown",
   "id": "d3eb9693",
   "metadata": {},
   "source": [
    "This file contains the code used to covert features to numeric. This is coppyed and used in various other files in the project. These changes are not saved in a new dataset as non numeric featurers tended to yield better results."
   ]
  },
  {
   "cell_type": "markdown",
   "id": "56bdf588",
   "metadata": {},
   "source": [
    "## Imports and Installs"
   ]
  },
  {
   "cell_type": "code",
   "execution_count": null,
   "id": "fa09a16b",
   "metadata": {},
   "outputs": [],
   "source": [
    "%pip install seaborn\n",
    "%pip install missingno\n",
    "%pip install plotly\n",
    "%pip install numpy\n",
    "%pip install pandas\n",
    "%pip install nltk\n",
    "%pip install nbformat\n",
    "%pip install scikit-learn\n",
    "%pip install jupyter tensorflow"
   ]
  },
  {
   "cell_type": "code",
   "execution_count": 1,
   "id": "aaa0a094",
   "metadata": {},
   "outputs": [],
   "source": [
    "import pandas as pd\n",
    "from sklearn.model_selection import train_test_split\n",
    "from sklearn.preprocessing import OneHotEncoder\n",
    "from sklearn.compose import ColumnTransformer\n",
    "from sklearn.pipeline import Pipeline\n",
    "from sklearn.linear_model import LinearRegression\n",
    "from sklearn.ensemble import RandomForestRegressor, GradientBoostingRegressor\n",
    "from sklearn.svm import SVR\n",
    "from sklearn.metrics import mean_squared_error, r2_score\n",
    "from sklearn.linear_model import BayesianRidge\n",
    "from sklearn.gaussian_process import GaussianProcessRegressor"
   ]
  },
  {
   "cell_type": "markdown",
   "id": "349fea58",
   "metadata": {},
   "source": [
    "## Read Data"
   ]
  },
  {
   "cell_type": "code",
   "execution_count": 2,
   "id": "650cd2ad",
   "metadata": {},
   "outputs": [],
   "source": [
    "df = pd.read_csv(\"hospital_cleaned.csv\")"
   ]
  },
  {
   "cell_type": "markdown",
   "id": "47ced4f0",
   "metadata": {},
   "source": [
    "## Convert data with dictionary - This code will be used elsewhere when using numerical data"
   ]
  },
  {
   "cell_type": "code",
   "execution_count": 3,
   "id": "ddc932cc",
   "metadata": {},
   "outputs": [
    {
     "name": "stdout",
     "output_type": "stream",
     "text": [
      "     age_group  age_group_code\n",
      "0  70 or Older               4\n",
      "1     18 to 29               1\n",
      "2  70 or Older               4\n",
      "3     50 to 69               3\n",
      "4     50 to 69               3\n"
     ]
    }
   ],
   "source": [
    "# age group\n",
    "code_map = {\n",
    "    \"0 to 17\":      0,\n",
    "    \"18 to 29\":     1,\n",
    "    \"30 to 49\":     2,\n",
    "    \"50 to 69\":     3,\n",
    "    \"70 or Older\":  4\n",
    "}\n",
    "\n",
    "# Map the age group to a numerical code\n",
    "df[\"age_group_code\"] = df[\"age_group\"].map(code_map)\n",
    "\n",
    "# Quick check of the result\n",
    "print(df[[\"age_group\", \"age_group_code\"]].head())\n"
   ]
  },
  {
   "cell_type": "code",
   "execution_count": 4,
   "id": "e2ff070b",
   "metadata": {},
   "outputs": [
    {
     "name": "stdout",
     "output_type": "stream",
     "text": [
      "  apr_risk_of_mortality  apr_risk_of_mortality_code\n",
      "0               Extreme                           3\n",
      "1                 Minor                           0\n",
      "2                 Major                           2\n",
      "3                 Minor                           0\n",
      "4              Moderate                           1\n"
     ]
    }
   ],
   "source": [
    "mortality_risk_code_map = {\n",
    "   \"Minor\":      0,\n",
    "   \"Moderate\":     1,\n",
    "   \"Major\":     2,\n",
    "   \"Extreme\":     3,\n",
    "}\n",
    "df[\"apr_risk_of_mortality_code\"] = df[\"apr_risk_of_mortality\"].map(mortality_risk_code_map)\n",
    "# 4. Quick check\n",
    "print(df[[\"apr_risk_of_mortality\", \"apr_risk_of_mortality_code\"]].head())"
   ]
  },
  {
   "cell_type": "code",
   "execution_count": 5,
   "id": "3141cfcb",
   "metadata": {},
   "outputs": [
    {
     "name": "stdout",
     "output_type": "stream",
     "text": [
      "  apr_severity_of_illness_description  apr_severity_of_illness_code\n",
      "0                               Major                             2\n",
      "1                               Minor                             0\n",
      "2                               Major                             2\n",
      "3                            Moderate                             1\n",
      "4                               Major                             2\n"
     ]
    }
   ],
   "source": [
    "illness_severity_code_map = {\n",
    "   \"Minor\":      0,\n",
    "   \"Moderate\":     1,\n",
    "   \"Major\":     2,\n",
    "   \"Extreme\":     3,\n",
    "}\n",
    "df[\"apr_severity_of_illness_code\"] = df[\"apr_severity_of_illness_description\"].map(illness_severity_code_map)\n",
    "# 4. Quick check\n",
    "print(df[[\"apr_severity_of_illness_description\", \"apr_severity_of_illness_code\"]].head())"
   ]
  },
  {
   "cell_type": "code",
   "execution_count": null,
   "id": "29e160c5",
   "metadata": {},
   "outputs": [],
   "source": []
  }
 ],
 "metadata": {
  "kernelspec": {
   "display_name": "Python 3",
   "language": "python",
   "name": "python3"
  },
  "language_info": {
   "codemirror_mode": {
    "name": "ipython",
    "version": 3
   },
   "file_extension": ".py",
   "mimetype": "text/x-python",
   "name": "python",
   "nbconvert_exporter": "python",
   "pygments_lexer": "ipython3",
   "version": "3.12.3"
  }
 },
 "nbformat": 4,
 "nbformat_minor": 5
}
